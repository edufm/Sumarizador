{
 "cells": [
  {
   "cell_type": "markdown",
   "metadata": {},
   "source": [
    "### Imports relevantes"
   ]
  },
  {
   "cell_type": "code",
   "execution_count": 3,
   "metadata": {},
   "outputs": [],
   "source": [
    "import json\n",
    "import pandas as pd\n",
    "import numpy as np"
   ]
  },
  {
   "cell_type": "markdown",
   "metadata": {},
   "source": [
    "### Inputs od usuario"
   ]
  },
  {
   "cell_type": "code",
   "execution_count": 4,
   "metadata": {},
   "outputs": [],
   "source": [
    "models = [\"tfidf\", \"cbow\", \"doc2vec\"]"
   ]
  },
  {
   "cell_type": "markdown",
   "metadata": {},
   "source": [
    "### Define função para carregar dados"
   ]
  },
  {
   "cell_type": "code",
   "execution_count": 5,
   "metadata": {},
   "outputs": [],
   "source": [
    "def load_summary_result(model_name, cluster=True, pagerank=True, rouge=True):\n",
    "    \n",
    "    if cluster:\n",
    "        with open(f\"outputs/summary_{model_name}_cl.json\", \"r\") as file:\n",
    "            summary_cl = json.load(file)\n",
    "\n",
    "    if pagerank:\n",
    "        with open(f\"outputs/summary_{model_name}_pr.json\", \"r\") as file:\n",
    "            summary_pr = json.load(file)\n",
    "    \n",
    "    if rouge:\n",
    "        with open(f\"outputs/rouge_{model_name}.json\", \"r\") as file:\n",
    "            rouge_results = json.load(file)\n",
    "            \n",
    "    return set(summary_cl.keys()), summary_cl, summary_pr, rouge_results\n",
    "\n",
    "def load_data():\n",
    "     \n",
    "    with open('storage/all_sents.txt', 'r', encoding='utf8') as file:\n",
    "        all_sents = [sent.split(\" \") for sent in file.read().split(\"\\n\")]\n",
    "    \n",
    "    with open(\"storage/sents_reference.json\", \"r\") as file:\n",
    "        sents_reference = json.load(file)\n",
    "        \n",
    "    with open(\"storage/orig_sents.json\", \"r\") as file:\n",
    "        orig_sents = json.load(file)    \n",
    "\n",
    "    with open(\"storage/highlights.json\", \"r\") as file:\n",
    "        highlights = json.load(file)\n",
    "        \n",
    "    return all_sents, sents_reference, orig_sents, highlights"
   ]
  },
  {
   "cell_type": "markdown",
   "metadata": {},
   "source": [
    "### Coleta os dados"
   ]
  },
  {
   "cell_type": "code",
   "execution_count": 6,
   "metadata": {},
   "outputs": [],
   "source": [
    "available_ids = set()\n",
    "summary_cls = {}\n",
    "summary_prs = {}\n",
    "rouge_results = {}\n",
    "for model in models:\n",
    "\n",
    "    available_id, summary_cl, summary_pr, rouge_result = load_summary_result(model)\n",
    "    available_ids.update(available_id)\n",
    "    summary_cls[model] = summary_cl\n",
    "    summary_prs[model] = summary_pr\n",
    "    rouge_results[model] = rouge_result\n",
    "    \n",
    "available_id = list(available_id)"
   ]
  },
  {
   "cell_type": "code",
   "execution_count": 7,
   "metadata": {},
   "outputs": [],
   "source": [
    "all_sents, sents_reference, orig_text, highlights = load_data()"
   ]
  },
  {
   "cell_type": "markdown",
   "metadata": {},
   "source": [
    "### Olha os textos"
   ]
  },
  {
   "cell_type": "code",
   "execution_count": 8,
   "metadata": {},
   "outputs": [],
   "source": [
    "text_id = available_id[np.random.randint(0, len(available_id))]"
   ]
  },
  {
   "cell_type": "code",
   "execution_count": 11,
   "metadata": {},
   "outputs": [
    {
     "name": "stdout",
     "output_type": "stream",
     "text": [
      "Highlight:\n",
      " . The G20 is being held in St Petersburg , but focus will be on tensions between Vladimir Putin and Barack Obama . Discussions are meant to be around economics , but will be overshadowed by Syria . Emerging markets have been suffering as demand for commodities drop , and currencies have collapsed . John Defterios writes the G20 has become an unwieldy group of countries with different priorities\n",
      "\n",
      "\n",
      "tfidf, Cluster, precision: 0.171\n",
      "['According to Brown , who I interviewed earlier this year , America `` should actually be more alert to the possibilities of international cooperation in both trade and agreements for growth', 'Since Federal Reserve Chairman Ben Bernanke uttered word of that change in strategy back in May , money has been flooding out of emerging markets', 'The tendency is for investors to make comparisons to the 1998/1999 Asian financial crisis , when those economies had wide current account deficits and a mountain of foreign currency government debt']\n",
      "\n",
      "tfidf, PageRank, precision: 0.387\n",
      "[\"'' Read more : Threat of military action sends ripples through global oil A global trade agreement , the much-talked about pivot to Asia , and even serious concerns around capital flight out of emerging markets and their currencies will be overshadowed at this G20\", \"Syria will be top of the agenda when the leaders convene in Russia 's western outpost of St. Petersburg\", 'Focus is on the tensions between host Vladimir Putin and his U.S. counterpart Barack Obama']\n",
      "\n",
      "\n",
      "cbow, Cluster, precision: 0.157\n",
      "[\"'' Read more : Threat of military action sends ripples through global oil A global trade agreement , the much-talked about pivot to Asia , and even serious concerns around capital flight out of emerging markets and their currencies will be overshadowed at this G20\", \"China 's Vice Finance Minister Zhu Guangyao welcomed signs of the U.S. recovery but said Washington `` must consider the spill-over effect of its monetary policy , especially the opportunity and rhythm of its exit from the ultra-loose monetary policy\", \"Read more : Snowden 's cat and mouse game leaves media in transit Without that export demand for grains , gold , palm oil , rubber , minerals and even manufactured goods , economies such as Brazil , India , South Africa , Turkey and Indonesia have seen their current account deficits balloon and their currencies plummet\"]\n",
      "\n",
      "cbow, PageRank, precision: 0.175\n",
      "['Brown moved with a sense of urgency to formalize the Group of 20 nations', 'Their verbal jousting could further divide the G20 , strategists suggest', 'He wanted to bring countries representing 80 % of GDP under one umbrella , bridge the gap between the developed and the developing world and , most importantly , tap the $ 4 trillion of surplus funds that still exist within the BRICS economies']\n",
      "\n",
      "\n",
      "doc2vec, Cluster, precision: 0.391\n",
      "[\"Syria will be top of the agenda when the leaders convene in Russia 's western outpost of St. Petersburg\", '`` Politics tops the agenda']\n",
      "\n",
      "doc2vec, PageRank, precision: 0.196\n",
      "['Four years later , however , geopolitics is trumping economics', 'Brown moved with a sense of urgency to formalize the Group of 20 nations', 'The India rupee is down more than 20 % this year , most of that loss in the past quarter alone , as the country posted the worst growth in four years']\n",
      "\n",
      "\n"
     ]
    }
   ],
   "source": [
    "print(\"Highlight:\")\n",
    "print(highlights[text_id])\n",
    "print()\n",
    "print()\n",
    "\n",
    "for model in models:\n",
    "    \n",
    "    print(f\"{model}, Cluster, precision:\", round(rouge_results[model][text_id][\"Cluster\"][\"rouge-1\"]['p'], 3))\n",
    "    print(summary_cls[model][text_id])\n",
    "    print()\n",
    "    print(f\"{model}, PageRank, precision:\", round(rouge_results[model][text_id][\"PageRank\"][\"rouge-1\"]['p'], 3))\n",
    "    print(summary_prs[model][text_id])\n",
    "    print()\n",
    "    print()"
   ]
  },
  {
   "cell_type": "code",
   "execution_count": null,
   "metadata": {},
   "outputs": [],
   "source": []
  }
 ],
 "metadata": {
  "kernelspec": {
   "display_name": "Python 3",
   "language": "python",
   "name": "python3"
  },
  "language_info": {
   "codemirror_mode": {
    "name": "ipython",
    "version": 3
   },
   "file_extension": ".py",
   "mimetype": "text/x-python",
   "name": "python",
   "nbconvert_exporter": "python",
   "pygments_lexer": "ipython3",
   "version": "3.7.6"
  }
 },
 "nbformat": 4,
 "nbformat_minor": 4
}
