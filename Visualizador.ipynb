{
 "cells": [
  {
   "cell_type": "markdown",
   "metadata": {},
   "source": [
    "# Visualiador\n",
    "\n",
    "Esse notebook tem como objetivo mostrar alguns exemplos de textos prviamente sumarizados no notebook Sumarizador."
   ]
  },
  {
   "cell_type": "markdown",
   "metadata": {},
   "source": [
    "### Imports relevantes"
   ]
  },
  {
   "cell_type": "code",
   "execution_count": 2,
   "metadata": {},
   "outputs": [],
   "source": [
    "import json\n",
    "import pandas as pd\n",
    "import numpy as np"
   ]
  },
  {
   "cell_type": "markdown",
   "metadata": {},
   "source": [
    "### Inputs do usuario"
   ]
  },
  {
   "cell_type": "code",
   "execution_count": 3,
   "metadata": {},
   "outputs": [],
   "source": [
    "models = [\"tfidf\", \"cbow\", \"doc2vec\"]"
   ]
  },
  {
   "cell_type": "markdown",
   "metadata": {},
   "source": [
    "### Define função para carregar dados"
   ]
  },
  {
   "cell_type": "code",
   "execution_count": 4,
   "metadata": {},
   "outputs": [],
   "source": [
    "def load_summary_result(model_name, cluster=True, pagerank=True, rouge=True):\n",
    "    \n",
    "    if cluster:\n",
    "        with open(f\"outputs/summary_{model_name}_cl.json\", \"r\") as file:\n",
    "            summary_cl = json.load(file)\n",
    "\n",
    "    if pagerank:\n",
    "        with open(f\"outputs/summary_{model_name}_pr.json\", \"r\") as file:\n",
    "            summary_pr = json.load(file)\n",
    "    \n",
    "    if rouge:\n",
    "        with open(f\"outputs/rouge_{model_name}.json\", \"r\") as file:\n",
    "            rouge_results = json.load(file)\n",
    "            \n",
    "    return set(summary_cl.keys()), summary_cl, summary_pr, rouge_results\n",
    "\n",
    "def load_data():\n",
    "     \n",
    "    with open('storage/all_sents.txt', 'r', encoding='utf8') as file:\n",
    "        all_sents = [sent.split(\" \") for sent in file.read().split(\"\\n\")]\n",
    "    \n",
    "    with open(\"storage/sents_reference.json\", \"r\") as file:\n",
    "        sents_reference = json.load(file)\n",
    "        \n",
    "    with open(\"storage/orig_sents.json\", \"r\") as file:\n",
    "        orig_sents = json.load(file)    \n",
    "\n",
    "    with open(\"storage/highlights.json\", \"r\") as file:\n",
    "        highlights = json.load(file)\n",
    "        \n",
    "    return all_sents, sents_reference, orig_sents, highlights"
   ]
  },
  {
   "cell_type": "markdown",
   "metadata": {},
   "source": [
    "### Coleta os dados"
   ]
  },
  {
   "cell_type": "code",
   "execution_count": 5,
   "metadata": {},
   "outputs": [],
   "source": [
    "available_ids = set()\n",
    "summary_cls = {}\n",
    "summary_prs = {}\n",
    "rouge_results = {}\n",
    "for model in models:\n",
    "\n",
    "    available_id, summary_cl, summary_pr, rouge_result = load_summary_result(model)\n",
    "    available_ids.update(available_id)\n",
    "    summary_cls[model] = summary_cl\n",
    "    summary_prs[model] = summary_pr\n",
    "    rouge_results[model] = rouge_result\n",
    "    \n",
    "available_id = list(available_id)"
   ]
  },
  {
   "cell_type": "code",
   "execution_count": 6,
   "metadata": {},
   "outputs": [],
   "source": [
    "all_sents, sents_reference, orig_text, highlights = load_data()"
   ]
  },
  {
   "cell_type": "markdown",
   "metadata": {},
   "source": [
    "### Olha os textos e compara com o Highlight"
   ]
  },
  {
   "cell_type": "code",
   "execution_count": 8,
   "metadata": {},
   "outputs": [
    {
     "name": "stdout",
     "output_type": "stream",
     "text": [
      "Highlight:\n",
      " . Spread of the virus is entering an `` acceleration period , '' official says . Countries may see a doubling of cases every three to four days , he says . More than 1,490 people have died from the virus since last spring . H1N1 is the first influenza pandemic in more than 40 years\n",
      "\n",
      "\n",
      "tfidf, Cluster, precision: 0.167\n",
      "[\"BEIJING , China -LRB- CNN -RRB- -- The world will soon see an `` explosion '' of swine flu cases as the H1N1 virus spreads rapidly around the world , a top World Health Organization official said Friday\", \"'' Any widespread resistance to antiviral drugs , expected to be available this fall , could make the situation worse , he said\", 'The public needs to comply with these health messages , and everyone needs to be able to recognize symptoms early and get timely medical care , he said']\n",
      "\n",
      "tfidf, PageRank, precision: 0.422\n",
      "['`` At a certain point , there will seem to be an explosion in case numbers', 'I believe it is very likely that all countries will see community-level transmission by the end of the year', 'Swine flu is the first influenza pandemic in more than 40 years']\n",
      "\n",
      "\n",
      "cbow, Cluster, precision: 0.203\n",
      "[\"BEIJING , China -LRB- CNN -RRB- -- The world will soon see an `` explosion '' of swine flu cases as the H1N1 virus spreads rapidly around the world , a top World Health Organization official said Friday\", 'The virus so far has shown itself to be unpredictable , Shin said , so the public needs to be prepared', '`` We need to learn quickly since , as I believe , it appears that this pandemic will get worse before the situation gets better']\n",
      "\n",
      "cbow, PageRank, precision: 0.309\n",
      "[\"Spread of the virus is entering an `` acceleration period '' and it is certain that there will be more cases and more deaths , said Dr. Shin Young-soo , the organization 's regional director for the Western Pacific\", '`` At a certain point , there will seem to be an explosion in case numbers', 'I believe it is very likely that all countries will see community-level transmission by the end of the year']\n",
      "\n",
      "\n",
      "doc2vec, Cluster, precision: 0.356\n",
      "[\"'' Any widespread resistance to antiviral drugs , expected to be available this fall , could make the situation worse , he said\", \"Spread of the virus is entering an `` acceleration period '' and it is certain that there will be more cases and more deaths , said Dr. Shin Young-soo , the organization 's regional director for the Western Pacific\", \"'' More than 1,490 people around the world have died from the virus since it emerged this spring , Shin said\"]\n",
      "\n",
      "doc2vec, PageRank, precision: 0.365\n",
      "[\"Spread of the H1N1 virus is entering an `` acceleration period , '' WHO official says\", \"`` We will only be safe when we have applied these lessons in every country dealing with this virus , '' Shin said\", \"'' Any widespread resistance to antiviral drugs , expected to be available this fall , could make the situation worse , he said\"]\n",
      "\n",
      "\n"
     ]
    }
   ],
   "source": [
    "text_id = available_id[np.random.randint(0, len(available_id))]\n",
    "\n",
    "print(\"Highlight:\")\n",
    "print(highlights[text_id])\n",
    "print()\n",
    "print()\n",
    "\n",
    "for model in models:\n",
    "    \n",
    "    print(f\"{model}, Cluster, precision:\", round(rouge_results[model][text_id][\"Cluster\"][\"rouge-1\"]['p'], 3))\n",
    "    print(summary_cls[model][text_id])\n",
    "    print()\n",
    "    print(f\"{model}, PageRank, precision:\", round(rouge_results[model][text_id][\"PageRank\"][\"rouge-1\"]['p'], 3))\n",
    "    print(summary_prs[model][text_id])\n",
    "    print()\n",
    "    print()"
   ]
  },
  {
   "cell_type": "code",
   "execution_count": null,
   "metadata": {},
   "outputs": [],
   "source": []
  }
 ],
 "metadata": {
  "kernelspec": {
   "display_name": "Python 3",
   "language": "python",
   "name": "python3"
  },
  "language_info": {
   "codemirror_mode": {
    "name": "ipython",
    "version": 3
   },
   "file_extension": ".py",
   "mimetype": "text/x-python",
   "name": "python",
   "nbconvert_exporter": "python",
   "pygments_lexer": "ipython3",
   "version": "3.7.6"
  }
 },
 "nbformat": 4,
 "nbformat_minor": 4
}
