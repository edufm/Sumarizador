{
 "cells": [
  {
   "cell_type": "code",
   "execution_count": 1,
   "metadata": {},
   "outputs": [],
   "source": [
    "%matplotlib inline\n",
    "import numpy as np\n",
    "import pandas as pd\n",
    "import matplotlib.pyplot as plt"
   ]
  },
  {
   "cell_type": "code",
   "execution_count": 2,
   "metadata": {},
   "outputs": [],
   "source": [
    "from nltk.corpus import stopwords\n",
    "STOPWORDS = set(stopwords.words('english'))\n",
    "\n",
    "def preprocess(sent):\n",
    "    def convert(word):\n",
    "        # Verifica se é um número.\n",
    "        try:\n",
    "            _ = float(word)\n",
    "            return '<num>'\n",
    "        except:\n",
    "            pass\n",
    "        \n",
    "        # Verifica se é uma palavra.\n",
    "        if word.isalpha():\n",
    "            lower = word.lower()\n",
    "            return '<stop>' if lower in STOPWORDS else lower\n",
    "        \n",
    "        # Caso contrário, é pontuação ou estranho.\n",
    "        return '<weird>'\n",
    "    \n",
    "    processed = [convert(word) for word in sent]\n",
    "    forbidden_words = set(('<num>', '<stop>', '<weird>'))\n",
    "    return [word for word in processed if word not in forbidden_words]"
   ]
  },
  {
   "cell_type": "code",
   "execution_count": 3,
   "metadata": {},
   "outputs": [
    {
     "name": "stderr",
     "output_type": "stream",
     "text": [
      "Downloading 20news dataset. This may take a few minutes.\n",
      "Downloading dataset from https://ndownloader.figshare.com/files/5975967 (14 MB)\n"
     ]
    },
    {
     "name": "stdout",
     "output_type": "stream",
     "text": [
      "Wall time: 1min 35s\n"
     ]
    }
   ],
   "source": [
    "%%time\n",
    "# from nltk.corpus import reuters\n",
    "# sents = [preprocess(sent) for sent in reuters.sents()]\n",
    "\n",
    "# from nltk.corpus import reuters\n",
    "# from nltk.tokenize import word_tokenize\n",
    "# docs = [word_tokenize(reuters.raw(fileid).strip()) for fileid in reuters.fileids()]\n",
    "# sents = [preprocess(doc) for doc in docs]\n",
    "\n",
    "# from nltk.corpus import brown\n",
    "# sents = [preprocess(sent) for sent in brown.sents()]\n",
    "\n",
    "from sklearn.datasets import fetch_20newsgroups\n",
    "sents = [preprocess(item.strip().split()) for item in fetch_20newsgroups()['data']]"
   ]
  },
  {
   "cell_type": "markdown",
   "metadata": {},
   "source": [
    "# Doc2Vec"
   ]
  },
  {
   "cell_type": "code",
   "execution_count": 4,
   "metadata": {},
   "outputs": [],
   "source": [
    "import gensim"
   ]
  },
  {
   "cell_type": "code",
   "execution_count": 5,
   "metadata": {},
   "outputs": [],
   "source": [
    "with open('sentences.txt', 'w', encoding='utf8') as file:\n",
    "    for sentence in sents:\n",
    "        file.write(f'{\" \".join([tok for tok in sentence if tok != \"<num>\"])}\\n')"
   ]
  },
  {
   "cell_type": "code",
   "execution_count": 6,
   "metadata": {},
   "outputs": [
    {
     "name": "stdout",
     "output_type": "stream",
     "text": [
      "Wall time: 1min 1s\n"
     ]
    }
   ],
   "source": [
    "%%time\n",
    "model_cbow = gensim.models.Doc2Vec(\n",
    "    corpus_file='sentences.txt',\n",
    "    vector_size=200,\n",
    "    window=5,\n",
    "    min_count=5,\n",
    "    workers=12,\n",
    "    epochs=100,\n",
    ")"
   ]
  },
  {
   "cell_type": "code",
   "execution_count": 7,
   "metadata": {},
   "outputs": [
    {
     "data": {
      "text/plain": [
       "array([[-4.2916369e-01,  5.5152011e-01,  2.1634729e-01, ...,\n",
       "         4.0536472e-01,  5.6265938e-01,  6.0627490e-01],\n",
       "       [-4.3762356e-01, -1.1232828e+00, -1.4373672e+00, ...,\n",
       "        -1.8785514e+00,  2.6089594e-01,  8.5045612e-01],\n",
       "       [-1.3427912e+00,  1.1281815e+00,  2.0876613e-01, ...,\n",
       "         1.5984105e+00, -2.1001346e+00,  5.1825309e-01],\n",
       "       ...,\n",
       "       [ 6.2170543e-04, -2.0785832e-03,  2.3196817e-03, ...,\n",
       "        -2.1602854e-03,  2.0566414e-04,  1.9103849e-03],\n",
       "       [ 1.7440557e-03, -7.1087194e-04,  1.6258265e-03, ...,\n",
       "         1.1208635e-03,  9.2979521e-04,  1.8092123e-03],\n",
       "       [-1.3417950e-03, -9.4703777e-04, -6.8338070e-04, ...,\n",
       "        -2.3585355e-03, -1.4061083e-03,  1.2617821e-03]], dtype=float32)"
      ]
     },
     "execution_count": 7,
     "metadata": {},
     "output_type": "execute_result"
    }
   ],
   "source": [
    "model_cbow.docvecs.vectors_docs"
   ]
  },
  {
   "cell_type": "code",
   "execution_count": 9,
   "metadata": {},
   "outputs": [],
   "source": [
    "from sklearn.cluster import MiniBatchKMeans\n",
    "kmeans_cbow = MiniBatchKMeans(n_clusters=10, random_state=42)"
   ]
  },
  {
   "cell_type": "code",
   "execution_count": 10,
   "metadata": {},
   "outputs": [
    {
     "name": "stdout",
     "output_type": "stream",
     "text": [
      "Wall time: 131 ms\n"
     ]
    }
   ],
   "source": [
    "%%time\n",
    "result = kmeans_cbow.fit_transform(model_cbow.docvecs.vectors_docs)"
   ]
  },
  {
   "cell_type": "code",
   "execution_count": 11,
   "metadata": {},
   "outputs": [
    {
     "data": {
      "text/plain": [
       "(11314, 10)"
      ]
     },
     "execution_count": 11,
     "metadata": {},
     "output_type": "execute_result"
    }
   ],
   "source": [
    "result.shape"
   ]
  },
  {
   "cell_type": "code",
   "execution_count": 12,
   "metadata": {},
   "outputs": [],
   "source": [
    "import pandas as pd\n",
    "df = pd.DataFrame(result)"
   ]
  },
  {
   "cell_type": "code",
   "execution_count": 13,
   "metadata": {},
   "outputs": [
    {
     "name": "stdout",
     "output_type": "stream",
     "text": [
      "################################################################################\n",
      "\n",
      "Cluster 0: [4255]\n",
      "computer science western canada usa dmorf could anyone direct ftp site find morphing package called downloaded file last new dos crashed hard drive lost find site got morphing packages dos thanks barry author wgt graphics toolkit vga version available mouse graphics primitives power data storage mul\n",
      "--------------------------------------------------------------------------------\n",
      "################################################################################\n",
      "\n",
      "Cluster 1: [11302  4809  9789 10718  9384   852   671  8120  8200  5191]\n",
      "code good san ca na trademark risc chip used thier wonder intergraph going infringement thier name probably keep quiet take lest get kneecaps good ten weeks friday good\n",
      "--------------------------------------------------------------------------------\n",
      "employment concentrate child exnet systems ltd public access uk article take logic far man invent need warmth man invent property laws laws guess xavier never heard territoriality many preditors stake territory chase members species tries invade case single lion ruling land south africa egypt across\n",
      "--------------------------------------------------------------------------------\n",
      "f top reasons love cr humor na ohio state university article article f article ten reasons love cr spectacle real would never bother read apt criticize read least recommendations useless cr flame war easy start claim right ok name good examples brought john john nielsen magnus consultant renaissance\n",
      "--------------------------------------------------------------------------------\n",
      "yet rushdie islamic canada article advocates view series twelve islamic leaders twelve free error makes quicker point heresy church middle seriously even sheiks claim accusations fabrications come saudi arabia matter read original works sunni imams four teacher least two imam jafar sadiq sixth imam \n",
      "--------------------------------------------------------------------------------\n",
      "arrogance christians u west advanced technologies article article velasco affirm absolutes arrogant believe god revealed truth therefore hold precious strategic importance pardon humble exactly difference holding revealed truth blind faith basis regardless evidence may find absolute fully expecting \n",
      "--------------------------------------------------------------------------------\n",
      "little satanic welch medical library article ann miller favorite reply complaint bible really inspired god really would make damn certain translators people interpreting copying getting put merit something corrupted man even inspired theory pretty comparison hebrew text old versions translations sho\n",
      "--------------------------------------------------------------------------------\n",
      "notes jays indians series na eskimo north article article article article probably even good season last baerga lot alomar better hitter last deleted seen say alomar better hitter last immediately follow numbers showing baerga better category see shows advantage alomar nominate last bit quote alomar\n",
      "--------------------------------------------------------------------------------\n",
      "gm quinn u arizona cs tucson article clark williams thompson came giants everyone comes guys ancient last beck said solid manwaring lead ml last season throwing excellent defensive agree offensive skills seem improving see help pitchout every even bob brenly good throwout percentage roger loved sacr\n",
      "--------------------------------------------------------------------------------\n",
      "odds ends cheap shots christianity world public access cheap shots shortest street street righteous archeologist thostle found amazing fossil way bent knot end penis paul christianity hits spot twelve apostles thats lot jesus christ virgin faith apologies pepsi cola famous many christians take save \n",
      "--------------------------------------------------------------------------------\n",
      "f top reasons love cr humor na ohio state university article article f article ten reasons love cr car salesmen love new car buying service later buying cr family number spectacle religious fervour cr spectacle real would never bother read magazine apt criticize real read criticize especially since \n",
      "--------------------------------------------------------------------------------\n",
      "################################################################################\n",
      "\n",
      "Cluster 2: [1012  778 1707 5194 4578 8986 6096  220 8829 6480]\n",
      "newsgroup split university southern los ca world article concerning proposed newsgroup personally favor learn awful lot aspects graphics reading code hardware think making different groups result posts week per kind like convenience one big forum discussing aspects anyone else feel daemon agree caus\n",
      "--------------------------------------------------------------------------------\n",
      "newsgroup split university michigan ann arbor world concerning proposed newsgroup personally favor learn awful lot aspects graphics reading code hardware think making different groups result posts week per kind like convenience one big forum discussing aspects anyone else feel daemon\n",
      "--------------------------------------------------------------------------------\n",
      "newsgroup split university texas austin world message apr gmt article concerning proposed newsgroup personally favor learn awful lot aspects graphics reading code hardware think making different groups result posts week per kind like convenience one big forum discussing aspects anyone else feel must\n",
      "--------------------------------------------------------------------------------\n",
      "suggestions audio relays megatest corporation article built little project using radio shack relays switch got pretty bad thing common things one supposed using relays seemed get rid question good circuit use switching noise kind audio appreciate advice references exact part names relays switching h\n",
      "--------------------------------------------------------------------------------\n",
      "center policy research poem erich fried apr center policy research poem erich fried poem poet erich fried ein jude die zionistischen kaempfer von erich fried wollt ihr eigentlich wollt ihr wirklich die uebertreffen die euch niedergetreten haben vor einem menschenalter euer eigenes blut und euren eig\n",
      "--------------------------------------------------------------------------------\n",
      "hernandez newsgroup split posting represents necessarily ibm ibm rochester article concerning proposed newsgroup personally favor learn awful lot aspects graphics reading code hardware think making different groups result posts week per kind like convenience one big forum discussing aspects anyone e\n",
      "--------------------------------------------------------------------------------\n",
      "forcing window manager accept specific coordinates window eindhoven university netherlands world try usposition pposition psize xsetwmnormalhints hints tell window manager position size window specified users window manager accept use pposition tells window manager values prefered values know window\n",
      "--------------------------------------------------------------------------------\n",
      "newsgroup split ostfold college article newsgroup split apr article concerning proposed newsgroup personally favor learn awful lot aspects graphics reading code hardware think making different groups result posts week per kind like convenience one big forum discussing aspects anyone else feel must d\n",
      "--------------------------------------------------------------------------------\n",
      "scores april ericsson sweden world championships group standings group b standings gp w l p gp w l p sweden germany italy czech republic russia usa canada finland switzerland france austria norway april italy russia norway germany sweden austria usa czech republic april canada switzerland russia aus\n",
      "--------------------------------------------------------------------------------\n",
      "p rockies opening day cast hp corporate notes server colorado rockies openning day pitchers scott aldred mlb totals saves andy ashby saves willie blair saves butch henry saves darren holmes saves david neid saves jeff parrett saves steve reed saves bruce ruffin saves bryn smith saves gary wayne save\n",
      "--------------------------------------------------------------------------------\n",
      "################################################################################\n",
      "\n",
      "Cluster 3: [3189 7339 2421 3165 3648 6846 7529 9853 9913  719]\n",
      "pantheism environmentalism case western reserve ohio new maybe covered anybody see current emphasis environment turned debated quite think legitimate concern planet great easily see perverted something may quote wall street journal april suspect one party dispute thinks earth clear much environmenta\n",
      "--------------------------------------------------------------------------------\n",
      "clarification personal position duck pond public log article hudson article sin violate sunday one could forgiven jesus never kept sunday one day seven also recognized holy like acts says layed gentiles sabbath epistles instruct people keep christians living among people looks like would scriptures \n",
      "--------------------------------------------------------------------------------\n",
      "kind loving royal roads military article article true stated saving grace available everyone salvation everyone option open people jews accept deity would hardly expect accept anything christ feel animosity towards even though persecuted jesus disciples eventually crucified bear ill feel pity jesus \n",
      "--------------------------------------------------------------------------------\n",
      "allan california institute pasadena dan bissell lawrence want start right say hope arent try convert makes sense many would book says jesus either crazy day actually said give particular book much think statements likely fame attributed death strong things fulfilled loads prophecies isaiah elsewhere\n",
      "--------------------------------------------------------------------------------\n",
      "question nicene creed mayo rochester campus nicene creed believe one god father maker heaven things visible one lord jesus son begotten father god light god begotten one substance father things us came heaven incarnate holy spirit virgin made crucified also us pontius suffered third day rose accordi\n",
      "--------------------------------------------------------------------------------\n",
      "prayer name university math sciences dormitory bible christian roommate guys close started disciple like go indepth subjects first discussion got around pray excellent question came one real answer question need pray people prayed god listened spite take try discussions interpreted feel one pray eit\n",
      "--------------------------------------------------------------------------------\n",
      "right messiahs national association disorganized meagre knowledge seems christians hard jews day cautious accepting religious authorities accept good christ hardly person claimed number active area time roman conquest fall many statements made repeated attempts give jesus sword military point fact r\n",
      "--------------------------------------------------------------------------------\n",
      "atheists hell intergraph article problem condemned hell way see god wants punish honest skepticism saying certainly changing would rather spend eternity hell beside god heaven knowing even one man would spend scorched see irony jesus willing go torture free definite promise hell fall rather allow st\n",
      "--------------------------------------------------------------------------------\n",
      "assurance hell previous know jesus talked hell thank respect man diminished promise never say wise loving man hard time understanding gospels least bit little doubt jesus belived hell would wise loving thing people audience headed warn rather cruel sadistic believe place exists remain quiet scenario\n",
      "--------------------------------------------------------------------------------\n",
      "ancient books national association disorganized talk atheist tell new testament historically reasons would give found effective atheists perfectly willing acknowledge existence ministry quite capable rationalizing miracles resurrection simple always make analogy book tells story historical trojan al\n",
      "--------------------------------------------------------------------------------\n",
      "################################################################################\n",
      "\n",
      "Cluster 4: [ 6518  3665  8697  5843  3094 10873  3490  9106  2455  2385]\n",
      "orbital element space shuttle space orbital keplerian air force institute technology current orbital elements norad element sets carried celestial updated daily documentation tracking software also available service satellite user current elements current shuttle mission provided celestial bbs may a\n",
      "--------------------------------------------------------------------------------\n",
      "orbital element space shuttle space orbital keplerian air force institute technology current orbital elements norad element sets carried celestial updated daily documentation tracking software also available service satellite user current elements current shuttle mission provided celestial bbs may a\n",
      "--------------------------------------------------------------------------------\n",
      "call navy seminar apr gmt usa carderock md call presentations navy scientific visualization virtual reality seminar june carderock naval surface warfare center david taylor research maryland ness engineering software sponsoring navy scientific visualization virtual reality purpose seminar present ex\n",
      "--------------------------------------------------------------------------------\n",
      "call navy seminar apr gmt usa carderock md call presentations navy scientific visualization virtual reality seminar june carderock naval surface warfare center david taylor research maryland ness engineering software sponsoring navy scientific visualization virtual reality purpose seminar present ex\n",
      "--------------------------------------------------------------------------------\n",
      "call navy seminar carderock md call presentations navy scientific visualization virtual reality seminar june carderock naval surface warfare center david taylor research maryland ness engineering software sponsoring navy scientific visualization virtual reality purpose seminar present exchange infor\n",
      "--------------------------------------------------------------------------------\n",
      "magellan update jet propulsion laboratory world jpl vnews forwarded doug magellan project manager magellan status report april magellan spacecraft continues operate gathering gravity data plot density variations venus solar panel offpoint returned zero degrees spacecraft temperatures dropped degrees\n",
      "--------------------------------------------------------------------------------\n",
      "yale cs gateway actually supports speculation backdoor pkp supported secretly natural welcome implementation rsaref strongly oppose speculation include depend upon trapdoor believe rsa would consent limitation concept rsaref nsa interest limited number interest fixed key maximum modulus legitimate r\n",
      "--------------------------------------------------------------------------------\n",
      "dark florida psychology tuesday april update auctioning following minimum bids set would normally sell make accept highest bid auction title alpha flight first work aliens app aliens may amazing new green amazing appearance archer armstrong avengers appearance bloodshot bwsmith daredevil miller art \n",
      "--------------------------------------------------------------------------------\n",
      "dark florida psychology auctioning following minimum bids set would normally sell make accept highest bid auction title alpha flight first work aliens app aliens may amazing new green amazing appearance archer armstrong avengers appearance bloodshot bwsmith daredevil miller art dark horse presents a\n",
      "--------------------------------------------------------------------------------\n",
      "hotel room nights sierra wa victoria hotel nights hotel reservation available days expires june letter credit issued hotelco hotel room number available hotels hotelco reputable hotel booking company provides hotel stays low letter credit normally works weekends booked solid check hotelco directly a\n",
      "--------------------------------------------------------------------------------\n",
      "################################################################################\n",
      "\n",
      "Cluster 5: [ 148 4850 7254 3212 5367]\n",
      "dale deification indiana university article bryce cardenas prophesy especial suppose personal means true one must christ appear lets see church quit claiming apostle someone mailmen could called apostles designated given remember many thousands people witnessed jesus make joe fisher\n",
      "--------------------------------------------------------------------------------\n",
      "wrong exxon research engineering article fellow anybody awake someone posted message telling people stop posting computer ads got thirty response mention rash sure another person posts message subject line even worse people guts say majority mention thread selling therefore overly bummed little comm\n",
      "--------------------------------------------------------------------------------\n",
      "allan political california institute pasadena looking rigorous definition otherwise would rest lives arguing really think need argue think motto points country proud freedom something us many opinion shared seeking make government christianity dominant religion country infringing rights others share\n",
      "--------------------------------------------------------------------------------\n",
      "food thought tyre another inerrantist rewrites rowan college new jersey brandy wonderdog hopes doghouse lot discussion ezekiel prophesied place would mashed never lot people living would appear ezekiel literally bother understand language ezekiel used differently biblical sometimes happens someone s\n",
      "--------------------------------------------------------------------------------\n",
      "yet rushdie islamic monash apr gmt fred rice british go around blowing skyscrapers know seems implying person accused blowing wtc ny actually islamic teachings something blowing world trade building blown make person accused innocent proven seem holes accusation read guy used particular van go back \n",
      "--------------------------------------------------------------------------------\n",
      "################################################################################\n",
      "\n",
      "Cluster 6: [10509  5335  2439  8076  4772  8665  2865  1506  6324  4515]\n",
      "serdar utexas gateway\n",
      "--------------------------------------------------------------------------------\n",
      "serdar utexas gateway\n",
      "--------------------------------------------------------------------------------\n",
      "toshiba portal system toshiba combo problems\n",
      "--------------------------------------------------------------------------------\n",
      "yankee usa rawley eastwick\n",
      "--------------------------------------------------------------------------------\n",
      "usa university south dakota part end part\n",
      "--------------------------------------------------------------------------------\n",
      "usa university south dakota part end part\n",
      "--------------------------------------------------------------------------------\n",
      "thee israeli terrorism university virginia kidding\n",
      "--------------------------------------------------------------------------------\n",
      "usa university south dakota part end part\n",
      "--------------------------------------------------------------------------------\n",
      "harris winqvtnet ndis token ring university nebraska omaha\n",
      "--------------------------------------------------------------------------------\n",
      "usa university south dakota part end part\n",
      "--------------------------------------------------------------------------------\n",
      "################################################################################\n",
      "\n",
      "Cluster 7: [ 5564  5563  5572  5560  5568  5574  5579  1955  1958 10308]\n",
      "insurance lotsa world modem palace simple news dis article glad know none judgemental little shits hey calling tony kidson pgp key request cat move take top\n",
      "--------------------------------------------------------------------------------\n",
      "president university toronto chemistry department article little bio architect four consecutive stanley cup champions general manager new york years bill bow ties become much signature andre panthers introduce early next huizenga leaves operation hands torrey bob vp san jose sharks ottawa senators s\n",
      "--------------------------------------------------------------------------------\n",
      "assumption university southern los ca points taken heaven end life one piece evidence assumption heaven fact christian church ever claimed sight christian churches claimed located final resting places one ever claimed possess body greatest everyone knew taken although definitive scriptural proof ass\n",
      "--------------------------------------------------------------------------------\n",
      "lee info dedicated x server kernel series message apr tufts university na anyone information existence location dedicated x server kernel please send trying put neglected good use enough memory sunos thanks advance free program called seth robertson takes sun boots limited kernel allows run converte\n",
      "--------------------------------------------------------------------------------\n",
      "americans evolution technical university germany article argue latter believe gods rest upon faith making positive statement gods rather merely saying therefore believe believe believe god different saying believe god still maintain even reading strong atheism requires way usually saying driving car\n",
      "--------------------------------------------------------------------------------\n",
      "catholic church poland faculteit der rijksuniversiteit nl writing paper role catholic church poland anyone tell fill recent german important role church concerning religious education relation\n",
      "--------------------------------------------------------------------------------\n",
      "emphysema question university pittsburgh article see try brand although tried two brands brands come top head nicoderm may fourth kenneth gilbert university pittsburgh general internal medicine\n",
      "--------------------------------------------------------------------------------\n",
      "code good express access online md usa na like bay pigs fiasco eisenhower administration given final green light hen went kennedy least man enough take full expect slick willie\n",
      "--------------------------------------------------------------------------------\n",
      "xterminal want xterminal community access project article apps run server work far xterminals running older versions run latest apps long host machine libraries could wrong raise taxes middle\n",
      "--------------------------------------------------------------------------------\n",
      "newsgroup split ostfold college article newsgroup split apr gmt proposed newsgroup personally favor learn awful lot aspects graphics reading code hardware think making groups result posts week per kind like convenience one big forum discussing aspects anyone else feel actuallay hand support idea one\n",
      "--------------------------------------------------------------------------------\n",
      "################################################################################\n",
      "\n",
      "Cluster 8: [9732]\n",
      "ancient islamic rituals sgi article propose two trends greater level general depression society psychological greater sexual promiscuity latter prime cause cannot provide evidence beyond whole thesis seems reasonable request people ponder upon pondered ten seconds realised since reliable statistics \n",
      "--------------------------------------------------------------------------------\n",
      "################################################################################\n",
      "\n",
      "Cluster 9: [ 4107  6484 10884  6864  1494    88  2774  1653  5547  3496]\n",
      "nhl playoff stats scores skidmore saratoga springs ny updated playoff updates subject\n",
      "--------------------------------------------------------------------------------\n",
      "cosmos trinity college dublin need much information cosmos rocket fragment launch new international available astronomy dublin issues year uk surface accepted expiration largest per capita unless know cost per min\n",
      "--------------------------------------------------------------------------------\n",
      "big block big block engineering subject wants please reply posting numbers daytime dave schrader\n",
      "--------------------------------------------------------------------------------\n",
      "ingi insert color pics subject says intended way insert color wfw try picture turns color\n",
      "--------------------------------------------------------------------------------\n",
      "archive server monthly posting new york state institute sebastian cabot studies automotive articles archive automotive archive server process presently richard welty good ever reported full rotation race car either pitch roll carroll smith\n",
      "--------------------------------------------------------------------------------\n",
      "goalie mask update ub article results three days remember still turn guy regular goalie please include keep sending glenn healy tommy soderstron ray leblanc soderstrom plays moulded got helmet cage least wore thirteen hours valerie hammerl days remind mario herb brooks claude top scorer known taking\n",
      "--------------------------------------------------------------------------------\n",
      "level express access online communications usa subject shuttle ever happened hypothesis shuttle flight software major factor loss wind shear flight control software indicated series violent engine movements shocked set upa harmonic resonance leading overstress pat\n",
      "--------------------------------------------------------------------------------\n",
      "university school arts sciences nothing want want roger need keith keller go go ivy league cow vegetarian keith\n",
      "--------------------------------------------------------------------------------\n",
      "dtp utexas gateway please ineed information desk top post graduate courses possible email address normal thanks advance\n",
      "--------------------------------------------------------------------------------\n",
      "bit graphics cards message apr gmt fuer technische germany looking eisa vesa local bus graphic cards support least know matrox cards know support striaght elsa metheus x servers unix pc support sgcs xserver please email thomas das reh springt das reh springt soll es es hat ja zeit\n",
      "--------------------------------------------------------------------------------\n"
     ]
    }
   ],
   "source": [
    "num_sents = 10\n",
    "for cluster_number in range(result.shape[1]):\n",
    "    best_sents = (\n",
    "        df[kmeans_cbow.labels_ == cluster_number]\n",
    "        .sort_values(by=cluster_number)\n",
    "        .index\n",
    "        .values[:num_sents]\n",
    "    )\n",
    "    print('#' * 80)\n",
    "    print(f'\\nCluster {cluster_number}: {best_sents}')\n",
    "    for k in best_sents:\n",
    "        print(' '\n",
    "              .join(sents[k])\n",
    "              .replace('<weird>', '')\n",
    "              .replace('  ', ' ')\n",
    "              .replace('<num>', '#')[:300]\n",
    "             )\n",
    "        print('-' * 80)"
   ]
  },
  {
   "cell_type": "code",
   "execution_count": 17,
   "metadata": {},
   "outputs": [
    {
     "data": {
      "text/plain": [
       "7    5171\n",
       "6    4703\n",
       "9     572\n",
       "3     404\n",
       "4     272\n",
       "1     110\n",
       "2      75\n",
       "5       5\n",
       "8       1\n",
       "0       1\n",
       "dtype: int64"
      ]
     },
     "execution_count": 17,
     "metadata": {},
     "output_type": "execute_result"
    }
   ],
   "source": [
    "pd.Series(kmeans_cbow.labels_).value_counts()"
   ]
  },
  {
   "cell_type": "markdown",
   "metadata": {},
   "source": [
    "# LDA\n",
    "\n",
    "https://towardsdatascience.com/topic-modelling-in-python-with-nltk-and-gensim-4ef03213cd21"
   ]
  },
  {
   "cell_type": "code",
   "execution_count": 18,
   "metadata": {},
   "outputs": [],
   "source": [
    "import pickle\n",
    "from gensim.corpora import Dictionary"
   ]
  },
  {
   "cell_type": "code",
   "execution_count": 19,
   "metadata": {},
   "outputs": [
    {
     "name": "stdout",
     "output_type": "stream",
     "text": [
      "Wall time: 1.27 s\n"
     ]
    }
   ],
   "source": [
    "%%time\n",
    "dictionary = Dictionary(sents)"
   ]
  },
  {
   "cell_type": "code",
   "execution_count": 20,
   "metadata": {},
   "outputs": [
    {
     "name": "stdout",
     "output_type": "stream",
     "text": [
      "Wall time: 709 ms\n"
     ]
    }
   ],
   "source": [
    "%%time\n",
    "corpus = [dictionary.doc2bow(sent) for sent in sents]"
   ]
  },
  {
   "cell_type": "code",
   "execution_count": 21,
   "metadata": {},
   "outputs": [],
   "source": [
    "pickle.dump(corpus, open('corpus.pkl', 'wb'))\n",
    "dictionary.save('dictionary.gensim')"
   ]
  },
  {
   "cell_type": "code",
   "execution_count": 22,
   "metadata": {},
   "outputs": [
    {
     "name": "stdout",
     "output_type": "stream",
     "text": [
      "(0, 'anyone')\n",
      "(1, 'brought')\n",
      "(2, 'bumper')\n",
      "(3, 'called')\n",
      "(4, 'car')\n",
      "(5, 'college')\n",
      "(6, 'could')\n",
      "(7, 'doors')\n",
      "(8, 'early')\n",
      "(9, 'engine')\n",
      "(10, 'enlighten')\n",
      "(11, 'front')\n",
      "(12, 'funky')\n",
      "(13, 'il')\n",
      "(14, 'info')\n",
      "(15, 'late')\n",
      "(16, 'lerxst')\n",
      "(17, 'looked')\n",
      "(18, 'looking')\n",
      "(19, 'model')\n",
      "(20, 'neighborhood')\n"
     ]
    }
   ],
   "source": [
    "for k, item in enumerate(dictionary.items()):\n",
    "    print(item)\n",
    "    if k >= 20:\n",
    "        break"
   ]
  },
  {
   "cell_type": "code",
   "execution_count": 23,
   "metadata": {},
   "outputs": [],
   "source": [
    "from gensim.models.ldamulticore import LdaMulticore"
   ]
  },
  {
   "cell_type": "code",
   "execution_count": 24,
   "metadata": {},
   "outputs": [
    {
     "name": "stdout",
     "output_type": "stream",
     "text": [
      "Wall time: 5min 7s\n"
     ]
    }
   ],
   "source": [
    "%%time\n",
    "NUM_TOPICS = 100\n",
    "ldamodel = LdaMulticore(corpus, num_topics=NUM_TOPICS, id2word=dictionary, passes=30)"
   ]
  },
  {
   "cell_type": "code",
   "execution_count": 25,
   "metadata": {},
   "outputs": [],
   "source": [
    "ldamodel.save('model5.gensim')"
   ]
  },
  {
   "cell_type": "code",
   "execution_count": 26,
   "metadata": {},
   "outputs": [
    {
     "name": "stdout",
     "output_type": "stream",
     "text": [
      "(31, '0.029*\"hockey\" + 0.020*\"nhl\" + 0.015*\"team\" + 0.010*\"play\" + 0.009*\"players\" + 0.009*\"league\" + 0.008*\"teams\" + 0.007*\"city\" + 0.007*\"north\" + 0.007*\"europeans\"')\n",
      "(95, '0.019*\"article\" + 0.014*\"would\" + 0.009*\"one\" + 0.007*\"get\" + 0.006*\"university\" + 0.006*\"think\" + 0.005*\"way\" + 0.005*\"government\" + 0.005*\"going\" + 0.004*\"dumb\"')\n",
      "(99, '0.009*\"think\" + 0.007*\"article\" + 0.007*\"people\" + 0.006*\"get\" + 0.006*\"would\" + 0.006*\"good\" + 0.006*\"like\" + 0.005*\"something\" + 0.005*\"really\" + 0.005*\"university\"')\n",
      "(74, '0.011*\"like\" + 0.009*\"one\" + 0.009*\"would\" + 0.008*\"know\" + 0.007*\"university\" + 0.007*\"anyone\" + 0.006*\"windows\" + 0.006*\"article\" + 0.005*\"heard\" + 0.004*\"much\"')\n",
      "(19, '0.016*\"would\" + 0.014*\"oil\" + 0.009*\"nuclear\" + 0.008*\"water\" + 0.008*\"power\" + 0.007*\"like\" + 0.007*\"use\" + 0.007*\"get\" + 0.005*\"think\" + 0.005*\"know\"')\n",
      "(29, '0.009*\"mac\" + 0.008*\"motif\" + 0.007*\"linux\" + 0.007*\"would\" + 0.006*\"article\" + 0.006*\"amiga\" + 0.006*\"port\" + 0.006*\"os\" + 0.006*\"one\" + 0.006*\"like\"')\n",
      "(98, '0.014*\"god\" + 0.013*\"one\" + 0.012*\"people\" + 0.012*\"would\" + 0.008*\"think\" + 0.008*\"believe\" + 0.007*\"say\" + 0.007*\"jesus\" + 0.006*\"may\" + 0.005*\"christian\"')\n",
      "(92, '0.015*\"apple\" + 0.013*\"color\" + 0.013*\"would\" + 0.010*\"video\" + 0.009*\"monitor\" + 0.008*\"like\" + 0.007*\"one\" + 0.007*\"new\" + 0.006*\"know\" + 0.006*\"article\"')\n",
      "(61, '0.033*\"drive\" + 0.017*\"disk\" + 0.017*\"hard\" + 0.011*\"system\" + 0.011*\"card\" + 0.010*\"use\" + 0.010*\"drives\" + 0.009*\"one\" + 0.009*\"mac\" + 0.008*\"need\"')\n",
      "(67, '0.016*\"serial\" + 0.012*\"unit\" + 0.010*\"n\" + 0.009*\"two\" + 0.007*\"key\" + 0.006*\"university\" + 0.005*\"block\" + 0.005*\"k\" + 0.005*\"number\" + 0.005*\"u\"')\n",
      "(38, '0.014*\"denver\" + 0.013*\"access\" + 0.012*\"public\" + 0.012*\"university\" + 0.010*\"unix\" + 0.008*\"north\" + 0.007*\"carolina\" + 0.007*\"system\" + 0.007*\"exhaust\" + 0.007*\"opinions\"')\n",
      "(33, '0.009*\"one\" + 0.007*\"think\" + 0.007*\"know\" + 0.006*\"system\" + 0.006*\"university\" + 0.006*\"many\" + 0.005*\"moral\" + 0.005*\"like\" + 0.005*\"new\" + 0.005*\"would\"')\n",
      "(52, '0.013*\"article\" + 0.009*\"university\" + 0.008*\"andrew\" + 0.006*\"would\" + 0.005*\"know\" + 0.005*\"course\" + 0.005*\"conference\" + 0.005*\"expressed\" + 0.005*\"read\" + 0.005*\"one\"')\n",
      "(63, '0.026*\"computer\" + 0.026*\"science\" + 0.022*\"article\" + 0.020*\"pittsburgh\" + 0.017*\"gordon\" + 0.017*\"banks\" + 0.014*\"surrender\" + 0.013*\"shameful\" + 0.012*\"chastity\" + 0.009*\"polygon\"')\n",
      "(93, '0.027*\"period\" + 0.018*\"g\" + 0.018*\"power\" + 0.017*\"pts\" + 0.013*\"scorer\" + 0.011*\"new\" + 0.010*\"third\" + 0.009*\"first\" + 0.009*\"second\" + 0.008*\"ny\"')\n",
      "(80, '0.018*\"university\" + 0.011*\"article\" + 0.009*\"professor\" + 0.009*\"speed\" + 0.008*\"automotive\" + 0.007*\"clock\" + 0.007*\"time\" + 0.006*\"new\" + 0.006*\"get\" + 0.006*\"car\"')\n",
      "(69, '0.014*\"would\" + 0.014*\"fbi\" + 0.013*\"koresh\" + 0.010*\"article\" + 0.009*\"fire\" + 0.009*\"batf\" + 0.008*\"children\" + 0.006*\"waco\" + 0.006*\"one\" + 0.006*\"tear\"')\n",
      "(72, '0.015*\"simms\" + 0.014*\"texas\" + 0.012*\"austin\" + 0.012*\"university\" + 0.011*\"article\" + 0.010*\"get\" + 0.009*\"speed\" + 0.009*\"simm\" + 0.008*\"need\" + 0.007*\"state\"')\n",
      "(21, '0.010*\"article\" + 0.007*\"would\" + 0.007*\"mode\" + 0.007*\"university\" + 0.007*\"know\" + 0.006*\"rate\" + 0.006*\"need\" + 0.006*\"vga\" + 0.005*\"video\" + 0.005*\"think\"')\n",
      "(71, '0.044*\"scsi\" + 0.028*\"vs\" + 0.023*\"ide\" + 0.023*\"bus\" + 0.016*\"isa\" + 0.011*\"keyboard\" + 0.010*\"article\" + 0.009*\"controller\" + 0.008*\"cpu\" + 0.007*\"vlb\"')\n"
     ]
    }
   ],
   "source": [
    "topics = ldamodel.print_topics(num_words=10)\n",
    "for topic in topics:\n",
    "    print(topic)"
   ]
  },
  {
   "cell_type": "code",
   "execution_count": 27,
   "metadata": {},
   "outputs": [],
   "source": [
    "dictionary = Dictionary.load('dictionary.gensim')\n",
    "corpus = pickle.load(open('corpus.pkl', 'rb'))\n",
    "lda = LdaMulticore.load('model5.gensim')"
   ]
  },
  {
   "cell_type": "code",
   "execution_count": 28,
   "metadata": {},
   "outputs": [
    {
     "ename": "ModuleNotFoundError",
     "evalue": "No module named 'pyLDAvis'",
     "output_type": "error",
     "traceback": [
      "\u001b[1;31m---------------------------------------------------------------------------\u001b[0m",
      "\u001b[1;31mModuleNotFoundError\u001b[0m                       Traceback (most recent call last)",
      "\u001b[1;32m<ipython-input-28-978c9a209cef>\u001b[0m in \u001b[0;36m<module>\u001b[1;34m\u001b[0m\n\u001b[1;32m----> 1\u001b[1;33m \u001b[1;32mimport\u001b[0m \u001b[0mpyLDAvis\u001b[0m\u001b[1;33m.\u001b[0m\u001b[0mgensim\u001b[0m\u001b[1;33m\u001b[0m\u001b[1;33m\u001b[0m\u001b[0m\n\u001b[0m\u001b[0;32m      2\u001b[0m \u001b[0mlda_display\u001b[0m \u001b[1;33m=\u001b[0m \u001b[0mpyLDAvis\u001b[0m\u001b[1;33m.\u001b[0m\u001b[0mgensim\u001b[0m\u001b[1;33m.\u001b[0m\u001b[0mprepare\u001b[0m\u001b[1;33m(\u001b[0m\u001b[0mlda\u001b[0m\u001b[1;33m,\u001b[0m \u001b[0mcorpus\u001b[0m\u001b[1;33m,\u001b[0m \u001b[0mdictionary\u001b[0m\u001b[1;33m,\u001b[0m \u001b[0msort_topics\u001b[0m\u001b[1;33m=\u001b[0m\u001b[1;32mFalse\u001b[0m\u001b[1;33m)\u001b[0m\u001b[1;33m\u001b[0m\u001b[1;33m\u001b[0m\u001b[0m\n\u001b[0;32m      3\u001b[0m \u001b[0mpyLDAvis\u001b[0m\u001b[1;33m.\u001b[0m\u001b[0mdisplay\u001b[0m\u001b[1;33m(\u001b[0m\u001b[0mlda_display\u001b[0m\u001b[1;33m)\u001b[0m\u001b[1;33m\u001b[0m\u001b[1;33m\u001b[0m\u001b[0m\n",
      "\u001b[1;31mModuleNotFoundError\u001b[0m: No module named 'pyLDAvis'"
     ]
    }
   ],
   "source": [
    "import pyLDAvis.gensim\n",
    "lda_display = pyLDAvis.gensim.prepare(lda, corpus, dictionary, sort_topics=False)\n",
    "pyLDAvis.display(lda_display)"
   ]
  },
  {
   "cell_type": "code",
   "execution_count": null,
   "metadata": {},
   "outputs": [],
   "source": []
  }
 ],
 "metadata": {
  "kernelspec": {
   "display_name": "Python 3",
   "language": "python",
   "name": "python3"
  },
  "language_info": {
   "codemirror_mode": {
    "name": "ipython",
    "version": 3
   },
   "file_extension": ".py",
   "mimetype": "text/x-python",
   "name": "python",
   "nbconvert_exporter": "python",
   "pygments_lexer": "ipython3",
   "version": "3.7.6"
  }
 },
 "nbformat": 4,
 "nbformat_minor": 4
}
